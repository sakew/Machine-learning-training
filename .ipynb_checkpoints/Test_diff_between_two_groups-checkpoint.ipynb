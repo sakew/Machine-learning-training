{
 "cells": [
  {
   "cell_type": "code",
   "execution_count": 5,
   "metadata": {},
   "outputs": [],
   "source": [
    "%matplotlib inline\n",
    "import pandas as pd\n",
    "import matplotlib.pyplot as plt\n",
    "import numpy as np\n",
    "from scipy import stats\n",
    "import seaborn as sns\n",
    "import statsmodels.api as sm\n",
    "from sklearn import linear_model\n",
    "from scipy.stats import ttest_1samp, wilcoxon, ttest_ind, mannwhitneyu\n",
    "import scipy.stats as stats"
   ]
  },
  {
   "cell_type": "markdown",
   "metadata": {},
   "source": [
    "#Load the data into a pandas dataframe\n",
    "iris = sns.load_dataset(\"iris\")\n",
    "iris.head()"
   ]
  },
  {
   "cell_type": "code",
   "execution_count": 6,
   "metadata": {},
   "outputs": [
    {
     "name": "stdout",
     "output_type": "stream",
     "text": [
      "one-sample t-test 1.3547273241940764e-170\n"
     ]
    }
   ],
   "source": [
    "#One-sided t-test\n",
    "#null hypothesis: expected mean value of sepal length = 17\n",
    "#reject H0 (null hypothesis) if p is less than 0.05\n",
    "t_statistic, p_value = ttest_1samp(iris[\"sepal_length\"], 17)\n",
    "print(\"one-sample t-test\", p_value)\n"
   ]
  },
  {
   "cell_type": "code",
   "execution_count": 7,
   "metadata": {},
   "outputs": [
    {
     "name": "stdout",
     "output_type": "stream",
     "text": [
      "ShapiroResult(statistic=0.9760899543762207, pvalue=0.010180278681218624)\n"
     ]
    }
   ],
   "source": [
    "# p_value < 0.05 => alternative hypothesis:\n",
    "# data deviate significantly from the hypothesis that the mean is 17 at the 5% level of significance\n",
    "# t-tests can be applied when the data are normally distributed ( these are parametric tests )\n",
    "# test for normality -> \n",
    "\n",
    "import scipy\n",
    "\n",
    "shapiro_results = scipy.stats.shapiro(iris[\"sepal_length\"])\n",
    "print(shapiro_results)"
   ]
  },
  {
   "cell_type": "code",
   "execution_count": 9,
   "metadata": {},
   "outputs": [
    {
     "name": "stdout",
     "output_type": "stream",
     "text": [
      "one-sample wilcoxon-test 2.2413414061128356e-26\n"
     ]
    }
   ],
   "source": [
    "## reject H0\n",
    "# in case of non-normal data distributions\n",
    "# non-parametric tests ->\n",
    "\n",
    "# one sample wilcoxon-test\n",
    "\n",
    "z_statistic, p_value = wilcoxon(iris[\"sepal_length\"] - 17)\n",
    "print(\"one-sample wilcoxon-test\", p_value)"
   ]
  },
  {
   "cell_type": "code",
   "execution_count": 10,
   "metadata": {},
   "outputs": [
    {
     "name": "stdout",
     "output_type": "stream",
     "text": [
      "two-sample t-test 2.8571040695819004e-31\n"
     ]
    }
   ],
   "source": [
    "#two-sample t-test\n",
    "#null-hypothesis: the two groups have the same mean\n",
    "t_statistic, p_value = ttest_ind(iris[\"sepal_length\"], iris[\"petal_length\"])\n",
    "print(\"two-sample t-test\", p_value)"
   ]
  },
  {
   "cell_type": "code",
   "execution_count": 11,
   "metadata": {},
   "outputs": [
    {
     "name": "stdout",
     "output_type": "stream",
     "text": [
      "two-sample wilcoxon-test 8.512650733764521e-27\n"
     ]
    }
   ],
   "source": [
    "# two-sample wilcoxon test (non-parametric)\n",
    "# a.k.a. Mann Whitney U\n",
    "u, p_value = mannwhitneyu(iris[\"sepal_length\"], iris[\"petal_length\"])\n",
    "print(\"two-sample wilcoxon-test\", p_value)"
   ]
  },
  {
   "cell_type": "code",
   "execution_count": 12,
   "metadata": {},
   "outputs": [],
   "source": [
    "# paired t-test: doing two measurements on the same experimental unit\n",
    "# e.g., before and after a treatment\n",
    "t_statistic, p_value = ttest_1samp(iris[\"sepal_length\"] - iris[\"petal_length\"], 0)"
   ]
  },
  {
   "cell_type": "code",
   "execution_count": 13,
   "metadata": {},
   "outputs": [
    {
     "name": "stdout",
     "output_type": "stream",
     "text": [
      "paired t-test 1.7996292277334387e-50\n"
     ]
    }
   ],
   "source": [
    "# p < 0.05 => alternative hypothesis:\n",
    "# the difference in mean is not equal to 0\n",
    "print(\"paired t-test\", p_value)"
   ]
  },
  {
   "cell_type": "code",
   "execution_count": 14,
   "metadata": {},
   "outputs": [
    {
     "name": "stdout",
     "output_type": "stream",
     "text": [
      "paired wilcoxon-test 2.2611505488375926e-26\n"
     ]
    }
   ],
   "source": [
    "# alternative to paired t-test when data has an ordinary scale or when not\n",
    "# normally distributed\n",
    "z_statistic, p_value = wilcoxon(iris[\"sepal_length\"] - iris[\"petal_length\"])\n",
    "print(\"paired wilcoxon-test\", p_value)"
   ]
  },
  {
   "cell_type": "code",
   "execution_count": null,
   "metadata": {},
   "outputs": [],
   "source": []
  }
 ],
 "metadata": {
  "kernelspec": {
   "display_name": "Python 3",
   "language": "python",
   "name": "python3"
  },
  "language_info": {
   "codemirror_mode": {
    "name": "ipython",
    "version": 3
   },
   "file_extension": ".py",
   "mimetype": "text/x-python",
   "name": "python",
   "nbconvert_exporter": "python",
   "pygments_lexer": "ipython3",
   "version": "3.8.5"
  }
 },
 "nbformat": 4,
 "nbformat_minor": 4
}
