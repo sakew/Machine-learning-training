{
 "cells": [
  {
   "cell_type": "code",
   "execution_count": 1,
   "metadata": {},
   "outputs": [
    {
     "name": "stdout",
     "output_type": "stream",
     "text": [
      "Requirement already satisfied: beautifulsoup4 in e:\\anaconda3\\lib\\site-packages (4.9.3)\n",
      "Requirement already satisfied: soupsieve>1.2; python_version >= \"3.0\" in e:\\anaconda3\\lib\\site-packages (from beautifulsoup4) (2.0.1)\n"
     ]
    }
   ],
   "source": [
    "! pip install beautifulsoup4"
   ]
  },
  {
   "cell_type": "code",
   "execution_count": 2,
   "metadata": {},
   "outputs": [
    {
     "name": "stdout",
     "output_type": "stream",
     "text": [
      "Requirement already satisfied: requests in e:\\anaconda3\\lib\\site-packages (2.24.0)\n",
      "Requirement already satisfied: urllib3!=1.25.0,!=1.25.1,<1.26,>=1.21.1 in e:\\anaconda3\\lib\\site-packages (from requests) (1.25.11)\n",
      "Requirement already satisfied: certifi>=2017.4.17 in e:\\anaconda3\\lib\\site-packages (from requests) (2020.6.20)\n",
      "Requirement already satisfied: idna<3,>=2.5 in e:\\anaconda3\\lib\\site-packages (from requests) (2.10)\n",
      "Requirement already satisfied: chardet<4,>=3.0.2 in e:\\anaconda3\\lib\\site-packages (from requests) (3.0.4)\n"
     ]
    }
   ],
   "source": [
    "! pip install requests"
   ]
  },
  {
   "cell_type": "code",
   "execution_count": 3,
   "metadata": {},
   "outputs": [],
   "source": [
    "import sys\n",
    "import time\n",
    "from bs4 import BeautifulSoup\n",
    "import requests\n",
    "import pandas as pd"
   ]
  },
  {
   "cell_type": "code",
   "execution_count": 5,
   "metadata": {},
   "outputs": [],
   "source": [
    "try:\n",
    "            #use the browser to get the url. This is suspicious command that might blow up.\n",
    "    page=requests.get('https://www.cricbuzz.com')   # this might throw an exception if something goes wrong during request phase.\n",
    "except Exception as e:                         # this describes what to do if an exception is thrown\n",
    "    error_type, error_obj, error_info = sys.exc_info() # get the exception information\n",
    "    print('ERROR FOR LINK: ', url)\n",
    "    print(error_type, 'Line:', error_info.tb_lineno) # print the error info and line that threw the exception\n",
    "                                                    # ignore this page. Abandon this and go back.\n",
    "time.sleep(2)\n",
    "soup = BeautifulSoup(page.text, 'html.parser')\n",
    "links = soup.find_all('div', attrs={'class' : 'cb-nws-intr'})"
   ]
  },
  {
   "cell_type": "code",
   "execution_count": 6,
   "metadata": {},
   "outputs": [
    {
     "data": {
      "text/plain": [
       "<Response [200]>"
      ]
     },
     "execution_count": 6,
     "metadata": {},
     "output_type": "execute_result"
    }
   ],
   "source": [
    "page"
   ]
  },
  {
   "cell_type": "code",
   "execution_count": 7,
   "metadata": {},
   "outputs": [
    {
     "data": {
      "text/plain": [
       "[<div class=\"cb-nws-intr\">India had used similar plans to thwart the Lyon challenge before the start of the last Test series Down Under</div>,\n",
       " <div class=\"cb-nws-intr\">West Indies lost four wickets for 72 runs on the first morning</div>,\n",
       " <div class=\"cb-nws-intr\">The talented all-rounder sustained a mild concussion during the pink-ball practice game</div>,\n",
       " <div class=\"cb-nws-intr\">The final will be played on January 31 while the decision on other domestic tournaments will be taken after the group stage</div>,\n",
       " <div class=\"cb-nws-intr\">The Pakistan captain remains doubtful for the Test series opener as well</div>,\n",
       " <div class=\"cb-nws-intr\">The first class game between Titans and Dolphins was called off at Centurion, the venue of the Boxing Day Test</div>,\n",
       " <div class=\"cb-nws-intr\">Pholetsi Moseki has now become the third acting CEO of CSA in just more than a year</div>,\n",
       " <div class=\"cb-nws-intr\">Demoted Hong Kong will have to go through the regional qualifiers</div>,\n",
       " <div class=\"cb-nws-intr\">Ben Stokes and Archer have been rested from the two Sri Lanka Tests, with England planning to rest a few more players during the tour of India</div>,\n",
       " <div class=\"cb-nws-intr\">Despite not wanting to burden the wicketkeeper-batsman with more responsibility, South African selectors ended up turning to him for captaincy in the longest format</div>,\n",
       " <div class=\"cb-nws-intr\">Both Lynn and Lawrence will use a different change room and will not be allowed in the team dugout</div>,\n",
       " <div class=\"cb-nws-intr\">The story of Dawid Malan's ascent to the ranking of world's best T20 batsman is one of perseverance and determination rather than quick wins</div>,\n",
       " <div class=\"cb-nws-intr\">Mitch Ferguson's ability to bowl quick inspired his brother and New Zealand cricketer, Lockie Ferguson, to take up fast bowling</div>,\n",
       " <div class=\"cb-nws-intr\">Talent isn't what matters most for a young South African keen on a career in cricket; where they go to school means more.</div>,\n",
       " <div class=\"cb-nws-intr\">Here's a statistical look at how West Indies - the T20 World Cup champions of 2012 and 2016 - are shaping up 12 months ahead of the next edition in 2021</div>,\n",
       " <div class=\"cb-nws-intr\">Padikkal scored 473 runs in IPL 2020 - the most by an Indian batsman in his debut (playing) season</div>,\n",
       " <div class=\"cb-nws-intr\">The current IPL is the first major cricket tournament from which all objective media are absent, making it a fascinating window into what the endpoint of an evolving trend can look like</div>]"
      ]
     },
     "execution_count": 7,
     "metadata": {},
     "output_type": "execute_result"
    }
   ],
   "source": [
    "links"
   ]
  },
  {
   "cell_type": "code",
   "execution_count": 8,
   "metadata": {},
   "outputs": [
    {
     "name": "stdout",
     "output_type": "stream",
     "text": [
      "India had used similar plans to thwart the Lyon challenge before the start of the last Test series Down Under\n",
      "\n",
      "\n",
      "West Indies lost four wickets for 72 runs on the first morning\n",
      "\n",
      "\n",
      "The talented all-rounder sustained a mild concussion during the pink-ball practice game\n",
      "\n",
      "\n",
      "The final will be played on January 31 while the decision on other domestic tournaments will be taken after the group stage\n",
      "\n",
      "\n",
      "The Pakistan captain remains doubtful for the Test series opener as well\n",
      "\n",
      "\n",
      "The first class game between Titans and Dolphins was called off at Centurion, the venue of the Boxing Day Test\n",
      "\n",
      "\n",
      "Pholetsi Moseki has now become the third acting CEO of CSA in just more than a year\n",
      "\n",
      "\n",
      "Demoted Hong Kong will have to go through the regional qualifiers\n",
      "\n",
      "\n",
      "Ben Stokes and Archer have been rested from the two Sri Lanka Tests, with England planning to rest a few more players during the tour of India\n",
      "\n",
      "\n",
      "Despite not wanting to burden the wicketkeeper-batsman with more responsibility, South African selectors ended up turning to him for captaincy in the longest format\n",
      "\n",
      "\n",
      "Both Lynn and Lawrence will use a different change room and will not be allowed in the team dugout\n",
      "\n",
      "\n",
      "The story of Dawid Malan's ascent to the ranking of world's best T20 batsman is one of perseverance and determination rather than quick wins\n",
      "\n",
      "\n",
      "Mitch Ferguson's ability to bowl quick inspired his brother and New Zealand cricketer, Lockie Ferguson, to take up fast bowling\n",
      "\n",
      "\n",
      "Talent isn't what matters most for a young South African keen on a career in cricket; where they go to school means more.\n",
      "\n",
      "\n",
      "Here's a statistical look at how West Indies - the T20 World Cup champions of 2012 and 2016 - are shaping up 12 months ahead of the next edition in 2021\n",
      "\n",
      "\n",
      "Padikkal scored 473 runs in IPL 2020 - the most by an Indian batsman in his debut (playing) season\n",
      "\n",
      "\n",
      "The current IPL is the first major cricket tournament from which all objective media are absent, making it a fascinating window into what the endpoint of an evolving trend can look like\n",
      "\n",
      "\n"
     ]
    }
   ],
   "source": [
    "for i in links:\n",
    "    print(i.text)\n",
    "    print(\"\\n\")"
   ]
  },
  {
   "cell_type": "code",
   "execution_count": null,
   "metadata": {},
   "outputs": [],
   "source": []
  }
 ],
 "metadata": {
  "kernelspec": {
   "display_name": "Python 3",
   "language": "python",
   "name": "python3"
  },
  "language_info": {
   "codemirror_mode": {
    "name": "ipython",
    "version": 3
   },
   "file_extension": ".py",
   "mimetype": "text/x-python",
   "name": "python",
   "nbconvert_exporter": "python",
   "pygments_lexer": "ipython3",
   "version": "3.8.5"
  }
 },
 "nbformat": 4,
 "nbformat_minor": 2
}
