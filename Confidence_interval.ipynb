{
 "cells": [
  {
   "cell_type": "code",
   "execution_count": 3,
   "metadata": {},
   "outputs": [],
   "source": [
    "%matplotlib inline\n",
    "\n",
    "import numpy as np\n",
    "import pandas as pd\n",
    "import scipy.stats as stats\n",
    "import matplotlib.pyplot as plt\n",
    "import random\n",
    "import math"
   ]
  },
  {
   "cell_type": "code",
   "execution_count": 4,
   "metadata": {},
   "outputs": [],
   "source": [
    "np.random.seed(10)"
   ]
  },
  {
   "cell_type": "code",
   "execution_count": 5,
   "metadata": {},
   "outputs": [
    {
     "name": "stdout",
     "output_type": "stream",
     "text": [
      "z-critical value: \n",
      "1.959963984540054\n",
      "Confidence interval: \n",
      "(52.66699057434821, 53.39900942565179)\n"
     ]
    }
   ],
   "source": [
    "population_wt = stats.poisson.rvs(loc=18, mu=35, size=150000) # randomly create population weight dta for 150k people\n",
    "\n",
    "sample_size = 1000\n",
    "sample = np.random.choice(a=population_wt, size = sample_size)\n",
    "sample_mean = sample.mean() # sample of 1000 people\n",
    "\n",
    "z_critical = stats.norm.ppf(q = 0.975) # Get the z-critical value at 95% level*\n",
    "# z value at 95% CI is 1.96\n",
    "\n",
    "print(\"z-critical value: \") # Check for the z-critical value\n",
    "print(z_critical)\n",
    "pop_stdev = population_wt.std() # Get the population standard deviation\n",
    "margin_of_error = z_critical * (pop_stdev/math.sqrt(sample_size))\n",
    "confidence_interval = (sample_mean - margin_of_error,\n",
    "                      sample_mean + margin_of_error)\n",
    "\n",
    "print(\"Confidence interval: \")\n",
    "print(confidence_interval)"
   ]
  },
  {
   "cell_type": "code",
   "execution_count": 6,
   "metadata": {},
   "outputs": [],
   "source": [
    "st_stdev = sample.std()"
   ]
  },
  {
   "cell_type": "code",
   "execution_count": 12,
   "metadata": {},
   "outputs": [],
   "source": [
    "from scipy.stats import t\n",
    "from numpy import average, std\n",
    "from math import sqrt"
   ]
  },
  {
   "cell_type": "code",
   "execution_count": 13,
   "metadata": {},
   "outputs": [],
   "source": [
    "data = [63.5, 81.3, 88.9, 63.5, 76.2, 67.3, 66.0, 64.8, 74.9, 81.3, 76.2, 72.4, 76.2, 81.3, 71.1, 80.0, 73.7, 74.9, 76.2, \n",
    "       86.4, 73.7, 81.3, 68.6, 71.1, 83.8, 71.1, 68.6, 81.3, 73.7, 74.9]"
   ]
  },
  {
   "cell_type": "code",
   "execution_count": 14,
   "metadata": {},
   "outputs": [],
   "source": [
    "mean = average(data) # mean weight of weightlifters"
   ]
  },
  {
   "cell_type": "code",
   "execution_count": 15,
   "metadata": {},
   "outputs": [
    {
     "data": {
      "text/plain": [
       "74.80666666666666"
      ]
     },
     "execution_count": 15,
     "metadata": {},
     "output_type": "execute_result"
    }
   ],
   "source": [
    "mean"
   ]
  },
  {
   "cell_type": "code",
   "execution_count": 20,
   "metadata": {},
   "outputs": [],
   "source": [
    "from scipy.stats import sem, t\n",
    "from numpy import mean\n",
    "confidence = 0.95"
   ]
  },
  {
   "cell_type": "code",
   "execution_count": 21,
   "metadata": {},
   "outputs": [
    {
     "name": "stdout",
     "output_type": "stream",
     "text": [
      "72.32885969182384\n"
     ]
    }
   ],
   "source": [
    "n = len(data)\n",
    "m = mean(data)\n",
    "std_err = sem(data) # standard error\n",
    "h = std_err * t.ppf((1 + confidence) / 2, n - 1) # moe\n",
    "\n",
    "start = m - h\n",
    "print(start)"
   ]
  },
  {
   "cell_type": "code",
   "execution_count": 22,
   "metadata": {},
   "outputs": [
    {
     "name": "stdout",
     "output_type": "stream",
     "text": [
      "77.28447364150948\n"
     ]
    }
   ],
   "source": [
    "end = m + h\n",
    "print(end)"
   ]
  },
  {
   "cell_type": "code",
   "execution_count": null,
   "metadata": {},
   "outputs": [],
   "source": []
  }
 ],
 "metadata": {
  "kernelspec": {
   "display_name": "Python 3",
   "language": "python",
   "name": "python3"
  },
  "language_info": {
   "codemirror_mode": {
    "name": "ipython",
    "version": 3
   },
   "file_extension": ".py",
   "mimetype": "text/x-python",
   "name": "python",
   "nbconvert_exporter": "python",
   "pygments_lexer": "ipython3",
   "version": "3.8.5"
  }
 },
 "nbformat": 4,
 "nbformat_minor": 4
}
