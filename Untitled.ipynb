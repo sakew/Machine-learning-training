{
 "cells": [
  {
   "cell_type": "code",
   "execution_count": 15,
   "metadata": {},
   "outputs": [],
   "source": [
    "import requests\n",
    "from bs4 import BeautifulSoup"
   ]
  },
  {
   "cell_type": "code",
   "execution_count": 16,
   "metadata": {},
   "outputs": [],
   "source": [
    "webpage = requests.get(\"https://www.webscraper.io/test-sites/e-commerce/static\")"
   ]
  },
  {
   "cell_type": "code",
   "execution_count": 17,
   "metadata": {},
   "outputs": [
    {
     "data": {
      "text/plain": [
       "requests.models.Response"
      ]
     },
     "execution_count": 17,
     "metadata": {},
     "output_type": "execute_result"
    }
   ],
   "source": [
    "type(webpage)"
   ]
  },
  {
   "cell_type": "code",
   "execution_count": 18,
   "metadata": {},
   "outputs": [
    {
     "data": {
      "text/plain": [
       "str"
      ]
     },
     "execution_count": 18,
     "metadata": {},
     "output_type": "execute_result"
    }
   ],
   "source": [
    "text = webpage.text\n",
    "type(text)"
   ]
  },
  {
   "cell_type": "code",
   "execution_count": 19,
   "metadata": {},
   "outputs": [
    {
     "data": {
      "text/plain": [
       "'<!DOCTYPE html>\\n<html lang=\"en\">\\n<head>\\n\\n\\t\\t\\t<!-- Anti-flicker snippet (recommended)  -->\\n<style>.async-hide {\\n\\t\\topacity: 0 !important\\n\\t} </style>\\n<script>(function (a, s, y, n, c, h, i, d, e) {\\n\\t\\ts.className += \\' \\' + y;\\n\\t\\th.start = 1 * new Date;\\n\\t\\th.end = i = function () {\\n\\t\\t\\ts.className = s.className.replace(RegExp(\\' ?\\' + y), \\'\\')\\n\\t\\t};\\n\\t\\t(a[n] = a[n] || []).hide = h;\\n\\t\\tsetTimeout(function () {\\n\\t\\t\\ti();\\n\\t\\t\\th.end = null\\n\\t\\t}, c);\\n\\t\\th.timeout = c;\\n\\t})(window, document.documentElement, \\'async-hide\\', \\'dataLayer\\', 4000,\\n\\t\\t{\\'GTM-NVFPDWB\\': true});</script>\\n\\t\\n\\t<!-- Google Tag Manager -->\\n<script>(function (w, d, s, l, i) {\\n\\t\\tw[l] = w[l] || [];\\n\\t\\tw[l].push({\\n\\t\\t\\t\\'gtm.start\\':\\n\\t\\t\\t\\tnew Date().getTime(), event: \\'gtm.js\\'\\n\\t\\t});\\n\\t\\tvar f = d.getElementsByTagName(s)[0],\\n\\t\\t\\tj = d.createElement(s), dl = l != \\'dataLayer\\' ? \\'&l=\\' + l : \\'\\';\\n\\t\\tj.async = true;\\n\\t\\tj.src =\\n\\t\\t\\t\\'https://www.googletagmanager.com/gtm.js?id=\\' + i + dl;\\n\\t\\tf.parentNode.insertBefore(j, f);\\n\\t})(window, document, \\'script\\', \\'dataLayer\\', \\'GTM-NVFPDWB\\');</script>\\n<!-- End Google Tag Manager -->\\n\\t<title>Web Scraper Test Sites</title>\\n\\t<meta charset=\"utf-8\">\\n\\t<meta http-equiv=\"X-UA-Compatible\" content=\"IE=edge,chrome=1\">\\n\\n\\t<meta name=\"keywords\"\\n\\t      content=\"web scraping,Web Scraper,Chrome extension,Crawling,Cross platform scraper\"/>\\n\\t<meta name=\"description\"\\n\\t      content=\"The most popular web scraping extension. Start scraping in minutes. Automate your tasks with our Cloud Scraper. No software to download, no coding needed.\"/>\\n\\t<link rel=\"icon\" sizes=\"128x128\" href=\"/favicon.png\">\\n\\n\\t<meta name=\"viewport\" content=\"width=device-width, initial-scale=1.0\">\\n\\t\\n\\t<link rel=\"stylesheet\" href=\"/css/app.css?id=e4de8db16b64e604046e\">\\n\\n\\t<link rel=\"canonical\" href=\"https://webscraper.io/test-sites/e-commerce/static\">\\n\\t<link rel=\"apple-touch-icon\" href=\"/img/logo-icon.png\">\\n\\n\\t\\t<script defer src=\"/js/app.js?id=e64f07a3ce1d466cf04c\"></script>\\n\\n\\t\\n</head>\\n<body>\\n<!-- Google Tag Manager (noscript) -->\\n<noscript>\\n\\t<iframe src=\"https://www.googletagmanager.com/ns.html?id=GTM-NVFPDWB\"\\n\\t        height=\"0\" width=\"0\" style=\"display:none;visibility:hidden\"></iframe>\\n</noscript>\\n<!-- End Google Tag Manager (noscript) -->\\n<header role=\"banner\" class=\"navbar navbar-fixed-top navbar-static\">\\n\\t<div class=\"container\">\\n\\n\\t\\t<div class=\"navbar-header\">\\n\\n\\t\\t\\t<a data-toggle=\"collapse-side\" data-target=\".side-collapse\" data-target-2=\".side-collapse-container\">\\n\\t\\t\\t\\t<button type=\"button\" class=\"navbar-toggle pull-right collapsed\" data-toggle=\"collapse\"\\n\\t\\t\\t\\t        data-target=\"#navbar\" data-target-2=\".side-collapse-container\" data-target-3=\".side-collapse\"\\n\\t\\t\\t\\t        aria-expanded=\"false\" aria-controls=\"navbar\">\\n\\n\\t\\t\\t\\t\\t<span class=\"sr-only\">Toggle navigation</span>\\n\\t\\t\\t\\t\\t<span class=\"icon-bar top-bar\"></span>\\n\\t\\t\\t\\t\\t<span class=\"icon-bar middle-bar\"></span>\\n\\t\\t\\t\\t\\t<span class=\"icon-bar bottom-bar\"></span>\\n\\n\\t\\t\\t\\t</button>\\n\\t\\t\\t</a>\\n\\t\\t\\t<div class=\"navbar-brand\">\\n\\t\\t\\t\\t<a href=\"/\"><img src=\"/img/logo_white.svg\" alt=\"Web Scraper\"></a>\\n\\t\\t\\t</div>\\n\\t\\t</div>\\n\\n\\t\\t<div class=\"side-collapse in\">\\n\\t\\t\\t<nav id=\"navbar\" role=\"navigation\" class=\"navbar-collapse collapse\">\\n\\t\\t\\t\\t<ul class=\"nav navbar-nav navbar-right\">\\n\\t\\t\\t\\t\\t<li class=\"hidden\">\\n\\t\\t\\t\\t\\t\\t<a href=\"#page-top\"></a>\\n\\t\\t\\t\\t\\t</li>\\n\\t\\t\\t\\t\\t\\n\\t\\t\\t\\t\\t\\n\\t\\t\\t\\t\\t\\n\\t\\t\\t\\t\\t\\n\\t\\t\\t\\t\\t\\n\\t\\t\\t\\t\\t\\n\\t\\t\\t\\t\\t\\n\\t\\t\\t\\t\\t<li>\\n\\t\\t\\t\\t\\t\\t<a href=\"/\" class=\"menuitm\">\\n\\t\\t\\t\\t\\t\\t\\t<p>Web Scraper</p>\\n\\t\\t\\t\\t\\t\\t\\t<div class=\"crta\"></div>\\n\\t\\t\\t\\t\\t\\t</a>\\n\\t\\t\\t\\t\\t</li>\\n\\t\\t\\t\\t\\t<li>\\n\\t\\t\\t\\t\\t\\t<a href=\"/cloud-scraper\" class=\"menuitm\">\\n\\t\\t\\t\\t\\t\\t\\t<p>Cloud Scraper</p>\\n\\t\\t\\t\\t\\t\\t\\t<div class=\"crta\"></div>\\n\\t\\t\\t\\t\\t\\t</a>\\n\\t\\t\\t\\t\\t</li>\\n\\t\\t\\t\\t\\t<li>\\n\\t\\t\\t\\t\\t\\t<a href=\"/pricing\" class=\"menuitm\">\\n\\t\\t\\t\\t\\t\\t\\t<p>Pricing</p>\\n\\t\\t\\t\\t\\t\\t\\t<div class=\"crta\"></div>\\n\\t\\t\\t\\t\\t\\t</a>\\n\\t\\t\\t\\t\\t</li>\\n\\t\\t\\t\\t\\t\\n\\t\\t\\t\\t\\t\\n\\t\\t\\t\\t\\t\\n\\t\\t\\t\\t\\t\\n\\t\\t\\t\\t\\t\\n\\t\\t\\t\\t\\t\\n\\t\\t\\t\\t\\t\\n\\t\\t\\t\\t\\t\\n\\t\\t\\t\\t\\t\\n\\t\\t\\t\\t\\t\\n\\t\\t\\t\\t\\t<li class=\"dropdown\">\\n\\t\\t\\t\\t\\t\\t<a href=\"#section3\" class=\"menuitm dropdown-toggle\" data-toggle=\"dropdown\">\\n\\t\\t\\t\\t\\t\\t\\t<p>Learn</p>\\n\\t\\t\\t\\t\\t\\t\\t<div class=\"crta\"></div>\\n\\t\\t\\t\\t\\t\\t</a>\\n\\t\\t\\t\\t\\t\\t<ul class=\"dropdown-menu\">\\n\\t\\t\\t\\t\\t\\t\\t<li>\\n\\t\\t\\t\\t\\t\\t\\t\\t<a href=\"/documentation\">Documentation</a>\\n\\t\\t\\t\\t\\t\\t\\t</li>\\n\\t\\t\\t\\t\\t\\t\\t<li>\\n\\t\\t\\t\\t\\t\\t\\t\\t<a href=\"/tutorials\">Video Tutorials</a>\\n\\t\\t\\t\\t\\t\\t\\t</li>\\n\\t\\t\\t\\t\\t\\t\\t<li>\\n\\t\\t\\t\\t\\t\\t\\t\\t<a href=\"/how-to-videos\">How to</a>\\n\\t\\t\\t\\t\\t\\t\\t</li>\\n\\t\\t\\t\\t\\t\\t\\t<li>\\n\\t\\t\\t\\t\\t\\t\\t\\t<a href=\"/test-sites\">Test Sites</a>\\n\\t\\t\\t\\t\\t\\t\\t</li>\\n\\t\\t\\t\\t\\t\\t\\t<li>\\n\\t\\t\\t\\t\\t\\t\\t\\t<a href=\"https://forum.webscraper.io/\" target=\"_blank\" rel=\"noopener\">Forum</a>\\n\\t\\t\\t\\t\\t\\t\\t</li>\\n\\t\\t\\t\\t\\t\\t</ul>\\n\\t\\t\\t\\t\\t</li>\\n\\t\\t\\t\\t\\t<li>\\n\\t\\t\\t\\t\\t\\t<a target=\"_blank\" href=\"https://chrome.google.com/webstore/detail/web-scraper/jnhgnonknehpejjnehehllkliplmbmhn?hl=en\" class=\"btn-menu1 install-extension\" rel=\"noopener\">Install</a>\\n\\t\\t\\t\\t\\t</li>\\n\\t\\t\\t\\t\\t<li>\\n\\t\\t\\t\\t\\t\\t<a href=\"https://cloud.webscraper.io/\" class=\"btn-menu2\">Login</a>\\n\\t\\t\\t\\t\\t</li>\\n\\t\\t\\t\\t</ul>\\n\\t\\t\\t</nav>\\n\\t\\t</div>\\n\\t</div>\\n</header>\\n\\n<div class=\"wrapper\">\\n\\t\\t<div class=\"formenu-here container-fluid\">\\n\\n\\t</div>\\n\\t<div class=\"container-fluid blog-hero\">\\n\\t\\t<div class=\"container\">\\n\\t\\t\\t<div class=\"row\">\\n\\t\\t\\t\\t<div class=\"col-md-12\">\\n\\t\\t\\t\\t\\t<h1>Test Sites</h1>\\n\\t\\t\\t\\t</div>\\n\\t\\t\\t</div>\\n\\t\\t</div>\\n\\t</div>\\n\\n\\t<div class=\"container test-site\">\\n\\t\\t<div class=\"row\">\\n\\t\\t\\t<div class=\"col-md-3 sidebar\">\\n\\t\\t\\t\\t\\t<div class=\"navbar-default sidebar\" role=\"navigation\">\\n\\t<div class=\"sidebar-nav navbar-collapse\">\\n\\t\\t<ul class=\"nav\" id=\"side-menu\">\\n\\n\\t\\t\\t<li  class=\"active\" >\\n\\t\\t\\t\\t<a href=\"/test-sites/e-commerce/static\">Home</a>\\n\\t\\t\\t</li>\\n\\n\\t\\t\\t\\t\\t\\t<li >\\n\\t\\t\\t\\t<a href=\"/test-sites/e-commerce/static/computers\" class=\"category-link \">\\n\\t\\t\\t\\t\\tComputers\\n\\t\\t\\t\\t\\t<span class=\"fa arrow\"></span>\\n\\t\\t\\t\\t</a>\\n\\n\\t\\t\\t\\t\\t\\t\\t</li>\\n\\t\\t\\t\\t\\t\\t<li >\\n\\t\\t\\t\\t<a href=\"/test-sites/e-commerce/static/phones\" class=\"category-link \">\\n\\t\\t\\t\\t\\tPhones\\n\\t\\t\\t\\t\\t<span class=\"fa arrow\"></span>\\n\\t\\t\\t\\t</a>\\n\\n\\t\\t\\t\\t\\t\\t\\t</li>\\n\\t\\t\\t\\t\\t</ul>\\n\\t</div>\\n</div>\\n\\n\\t\\t\\t</div>\\n\\t\\t\\t<div class=\"col-md-9\">\\n\\t\\t\\t\\t\\n\\t<div class=\"jumbotron\">\\n\\t\\t<h1>E-commerce training site</h1>\\n\\t\\t<p>\\n\\t\\t\\tWelcome to WebScraper e-commerce site. You can use this site for training\\n\\t\\t\\tto learn how to use the Web Scraper. Items listed here are not for sale.\\n\\t\\t</p>\\n\\t</div>\\n\\n\\t<h2>Top items being scraped right now</h2>\\n\\n\\t<div class=\"row\">\\n\\t\\t\\t<div class=\"col-sm-4 col-lg-4 col-md-4\">\\n\\t<div class=\"thumbnail\">\\n\\t\\t<img class=\"img-responsive\" alt=\"item\"\\n\\t\\t     src=\"/images/test-sites/e-commerce/items/cart2.png\">\\n\\t\\t<div class=\"caption\">\\n\\t\\t\\t<h4 class=\"pull-right price\">$24.99</h4>\\n\\t\\t\\t<h4>\\n\\t\\t\\t\\t\\t\\t\\t\\t\\t<a href=\"/test-sites/e-commerce/static/product/486\" class=\"title\" title=\"Nokia 123\">Nokia 123</a>\\n\\t\\t\\t\\t\\t\\t\\t</h4>\\n\\t\\t\\t<p class=\"description\">7 day battery</p>\\n\\n\\t\\t</div>\\n\\t\\t<div class=\"ratings\">\\n\\t\\t\\t<p class=\"pull-right\">11 reviews</p>\\n\\t\\t\\t<p data-rating=\"3\">\\n\\t\\t\\t\\t\\t\\t\\t\\t<span class=\"glyphicon glyphicon-star\"></span>\\n\\t\\t\\t\\t\\t\\t\\t\\t<span class=\"glyphicon glyphicon-star\"></span>\\n\\t\\t\\t\\t\\t\\t\\t\\t<span class=\"glyphicon glyphicon-star\"></span>\\n\\t\\t\\t\\t\\t\\t\\t</p>\\n\\t\\t</div>\\n\\t</div>\\n</div>\\n\\t\\t\\t<div class=\"col-sm-4 col-lg-4 col-md-4\">\\n\\t<div class=\"thumbnail\">\\n\\t\\t<img class=\"img-responsive\" alt=\"item\"\\n\\t\\t     src=\"/images/test-sites/e-commerce/items/cart2.png\">\\n\\t\\t<div class=\"caption\">\\n\\t\\t\\t<h4 class=\"pull-right price\">$520.99</h4>\\n\\t\\t\\t<h4>\\n\\t\\t\\t\\t\\t\\t\\t\\t\\t<a href=\"/test-sites/e-commerce/static/product/527\" class=\"title\" title=\"HP 250 G3\">HP 250 G3</a>\\n\\t\\t\\t\\t\\t\\t\\t</h4>\\n\\t\\t\\t<p class=\"description\">15.6&quot;, Core\\xa0i5-4210U, 4GB, 500GB, Windows 8.1</p>\\n\\n\\t\\t</div>\\n\\t\\t<div class=\"ratings\">\\n\\t\\t\\t<p class=\"pull-right\">13 reviews</p>\\n\\t\\t\\t<p data-rating=\"2\">\\n\\t\\t\\t\\t\\t\\t\\t\\t<span class=\"glyphicon glyphicon-star\"></span>\\n\\t\\t\\t\\t\\t\\t\\t\\t<span class=\"glyphicon glyphicon-star\"></span>\\n\\t\\t\\t\\t\\t\\t\\t</p>\\n\\t\\t</div>\\n\\t</div>\\n</div>\\n\\t\\t\\t<div class=\"col-sm-4 col-lg-4 col-md-4\">\\n\\t<div class=\"thumbnail\">\\n\\t\\t<img class=\"img-responsive\" alt=\"item\"\\n\\t\\t     src=\"/images/test-sites/e-commerce/items/cart2.png\">\\n\\t\\t<div class=\"caption\">\\n\\t\\t\\t<h4 class=\"pull-right price\">$1349.23</h4>\\n\\t\\t\\t<h4>\\n\\t\\t\\t\\t\\t\\t\\t\\t\\t<a href=\"/test-sites/e-commerce/static/product/628\" class=\"title\" title=\"Lenovo ThinkPad T470\">Lenovo ThinkPad...</a>\\n\\t\\t\\t\\t\\t\\t\\t</h4>\\n\\t\\t\\t<p class=\"description\">Lenovo ThinkPad T470, 14&quot; FHD IPS, Core i5-7200U, 8GB, 256GB SSD, Windows 10 Pro</p>\\n\\n\\t\\t</div>\\n\\t\\t<div class=\"ratings\">\\n\\t\\t\\t<p class=\"pull-right\">5 reviews</p>\\n\\t\\t\\t<p data-rating=\"1\">\\n\\t\\t\\t\\t\\t\\t\\t\\t<span class=\"glyphicon glyphicon-star\"></span>\\n\\t\\t\\t\\t\\t\\t\\t</p>\\n\\t\\t</div>\\n\\t</div>\\n</div>\\n\\t</div>\\n\\n\\n\\t\\t\\t</div>\\n\\t\\t</div>\\n\\t</div>\\n\\t<div class=\"clearfix\"></div>\\n\\t<div class=\"push\"></div>\\n</div>\\n\\n<div class=\"container-fluid footer\" id=\"layout-footer\">\\n\\t<div class=\"container\">\\n\\t\\t<div class=\"row\">\\n\\t\\t\\t<div class=\"col-md-3\">\\n\\t\\t\\t\\t<ul>\\n\\t\\t\\t\\t\\t<li><p>Products</p></li>\\n\\t\\t\\t\\t\\t<li>\\n\\t\\t\\t\\t\\t\\t<a href=\"/\">Web Scraper browser extension</a>\\n\\t\\t\\t\\t\\t</li>\\n\\t\\t\\t\\t\\t<li>\\n\\t\\t\\t\\t\\t\\t<a href=\"/pricing\">Web Scraper Cloud</a>\\n\\t\\t\\t\\t\\t</li>\\n\\t\\t\\t\\t\\t\\t\\t\\t\\t\\t\\n\\t\\t\\t\\t\\t\\n\\t\\t\\t\\t</ul>\\n\\t\\t\\t</div>\\n\\t\\t\\t<div class=\"col-md-3\">\\n\\t\\t\\t\\t<ul>\\n\\t\\t\\t\\t\\t<li><p>Company</p></li>\\n\\t\\t\\t\\t\\t\\n\\t\\t\\t\\t\\t<li><a href=\"/contact\">Contact</a>\\n\\t\\t\\t\\t\\t</li>\\n\\t\\t\\t\\t\\t\\n\\t\\t\\t\\t\\t<li>\\n\\t\\t\\t\\t\\t\\t<a href=\"/privacy-policy\">Website Privacy Policy</a>\\n\\t\\t\\t\\t\\t</li>\\n\\t\\t\\t\\t\\t<li>\\n\\t\\t\\t\\t\\t\\t<a href=\"/extension-privacy-policy\">Browser Extension Privacy Policy</a>\\n\\t\\t\\t\\t\\t</li>\\n\\t\\t\\t\\t\\t<li>\\n\\t\\t\\t\\t\\t\\t<a href=\"http://webscraperio.us-east-1.elasticbeanstalk.com/downloads/Web_Scraper_Media_Kit.zip\">Media kit</a>\\n\\t\\t\\t\\t\\t</li>\\n\\t\\t\\t\\t\\t\\n\\t\\t\\t\\t\\t<li><a href=\"/jobs\">Jobs</a></li>\\n\\t\\t\\t\\t</ul>\\n\\t\\t\\t</div>\\n\\t\\t\\t<div class=\"col-md-3\">\\n\\t\\t\\t\\t<ul>\\n\\t\\t\\t\\t\\t<li><p>Resources</p></li>\\n\\t\\t\\t\\t\\t<li><a href=\"/blog\">Blog</a></li>\\n\\t\\t\\t\\t\\t<li>\\n\\t\\t\\t\\t\\t\\t<a href=\"/documentation\">Documentation</a>\\n\\t\\t\\t\\t\\t</li>\\n\\t\\t\\t\\t\\t<li>\\n\\t\\t\\t\\t\\t\\t<a href=\"/tutorials\">Video Tutorials</a>\\n\\t\\t\\t\\t\\t</li>\\n\\t\\t\\t\\t\\t<li>\\n\\t\\t\\t\\t\\t\\t<a href=\"/screenshots\">Screenshots</a>\\n\\t\\t\\t\\t\\t</li>\\n\\t\\t\\t\\t\\t<li>\\n\\t\\t\\t\\t\\t\\t<a href=\"/test-sites\">Test Sites</a>\\n\\t\\t\\t\\t\\t</li>\\n\\t\\t\\t\\t\\t<li>\\n\\t\\t\\t\\t\\t\\t<a target=\"_blank\" href=\"https://forum.webscraper.io/\" rel=\"noopener\">Forum</a>\\n\\t\\t\\t\\t\\t</li>\\n\\t\\t\\t\\t</ul>\\n\\t\\t\\t</div>\\n\\t\\t\\t<div class=\"col-md-3\">\\n\\t\\t\\t\\t<ul>\\n\\t\\t\\t\\t\\t<li><p>CONTACT US</p></li>\\n\\t\\t\\t\\t\\t<li>\\n\\t\\t\\t\\t\\t\\t<a href=\"mailto:info@webscraper.io\">info@webscraper.io</a>\\n\\t\\t\\t\\t\\t</li>\\n\\t\\t\\t\\t\\t\\n\\t\\t\\t\\t\\t<li>Rupniecibas iela 30,<br> Riga, Latvia, LV-1045</li>\\n\\t\\t\\t\\t</ul>\\n\\t\\t\\t\\t<ul class=\"smedia\">\\n\\t\\t\\t\\t\\t<li>\\n\\t\\t\\t\\t\\t\\t<a href=\"https://www.facebook.com/webscraperio/\" target=\"_blank\" rel=\"noopener\"><img src=\"/img/fbicon.png\" alt=\"Web Scraper on Facebook\"></a>\\n\\t\\t\\t\\t\\t</li>\\n\\t\\t\\t\\t\\t<li>\\n\\t\\t\\t\\t\\t\\t<a href=\"https://twitter.com/webscraperio\" target=\"_blank\" rel=\"noopener\"><img src=\"/img/twicon.png\" alt=\"Web Scraper on Twitter\"></a>\\n\\t\\t\\t\\t\\t</li>\\n\\t\\t\\t\\t\\t\\n\\n\\t\\t\\t\\t</ul>\\n\\t\\t\\t</div>\\n\\t\\t</div>\\n\\t\\t<div class=\"row\">\\n\\t\\t\\t<div class=\"col-md-12\">\\n\\t\\t\\t\\t<p class=\"copyright\">Copyright &copy 2020\\n\\t\\t\\t\\t\\t<a href=\"#\">Web Scraper</a> | All rights\\n\\t\\t\\t\\t\\treserved | Made by zoom59</p>\\n\\t\\t\\t</div>\\n\\t\\t</div>\\n\\t</div>\\n</div>\\n\\n\\n</body>\\n</html>\\n'"
      ]
     },
     "execution_count": 19,
     "metadata": {},
     "output_type": "execute_result"
    }
   ],
   "source": [
    "text"
   ]
  },
  {
   "cell_type": "code",
   "execution_count": 20,
   "metadata": {},
   "outputs": [],
   "source": [
    "content = webpage.content"
   ]
  },
  {
   "cell_type": "code",
   "execution_count": 21,
   "metadata": {},
   "outputs": [
    {
     "data": {
      "text/plain": [
       "bytes"
      ]
     },
     "execution_count": 21,
     "metadata": {},
     "output_type": "execute_result"
    }
   ],
   "source": [
    "type(content)"
   ]
  },
  {
   "cell_type": "raw",
   "metadata": {},
   "source": [
    "result = BeautifulSoup(text)"
   ]
  },
  {
   "cell_type": "code",
   "execution_count": 26,
   "metadata": {},
   "outputs": [
    {
     "data": {
      "text/plain": [
       "bs4.BeautifulSoup"
      ]
     },
     "execution_count": 26,
     "metadata": {},
     "output_type": "execute_result"
    }
   ],
   "source": [
    "type(result)"
   ]
  },
  {
   "cell_type": "code",
   "execution_count": 27,
   "metadata": {},
   "outputs": [],
   "source": [
    "result = BeautifulSoup(content, \"html.parser\")"
   ]
  },
  {
   "cell_type": "code",
   "execution_count": 28,
   "metadata": {},
   "outputs": [
    {
     "data": {
      "text/plain": [
       "bs4.BeautifulSoup"
      ]
     },
     "execution_count": 28,
     "metadata": {},
     "output_type": "execute_result"
    }
   ],
   "source": [
    "type(result)"
   ]
  },
  {
   "cell_type": "code",
   "execution_count": 29,
   "metadata": {},
   "outputs": [
    {
     "data": {
      "text/plain": [
       "<!DOCTYPE html>\n",
       "\n",
       "<html lang=\"en\">\n",
       "<head>\n",
       "<!-- Anti-flicker snippet (recommended)  -->\n",
       "<style>.async-hide {\n",
       "\t\topacity: 0 !important\n",
       "\t} </style>\n",
       "<script>(function (a, s, y, n, c, h, i, d, e) {\n",
       "\t\ts.className += ' ' + y;\n",
       "\t\th.start = 1 * new Date;\n",
       "\t\th.end = i = function () {\n",
       "\t\t\ts.className = s.className.replace(RegExp(' ?' + y), '')\n",
       "\t\t};\n",
       "\t\t(a[n] = a[n] || []).hide = h;\n",
       "\t\tsetTimeout(function () {\n",
       "\t\t\ti();\n",
       "\t\t\th.end = null\n",
       "\t\t}, c);\n",
       "\t\th.timeout = c;\n",
       "\t})(window, document.documentElement, 'async-hide', 'dataLayer', 4000,\n",
       "\t\t{'GTM-NVFPDWB': true});</script>\n",
       "<!-- Google Tag Manager -->\n",
       "<script>(function (w, d, s, l, i) {\n",
       "\t\tw[l] = w[l] || [];\n",
       "\t\tw[l].push({\n",
       "\t\t\t'gtm.start':\n",
       "\t\t\t\tnew Date().getTime(), event: 'gtm.js'\n",
       "\t\t});\n",
       "\t\tvar f = d.getElementsByTagName(s)[0],\n",
       "\t\t\tj = d.createElement(s), dl = l != 'dataLayer' ? '&l=' + l : '';\n",
       "\t\tj.async = true;\n",
       "\t\tj.src =\n",
       "\t\t\t'https://www.googletagmanager.com/gtm.js?id=' + i + dl;\n",
       "\t\tf.parentNode.insertBefore(j, f);\n",
       "\t})(window, document, 'script', 'dataLayer', 'GTM-NVFPDWB');</script>\n",
       "<!-- End Google Tag Manager -->\n",
       "<title>Web Scraper Test Sites</title>\n",
       "<meta charset=\"utf-8\"/>\n",
       "<meta content=\"IE=edge,chrome=1\" http-equiv=\"X-UA-Compatible\"/>\n",
       "<meta content=\"web scraping,Web Scraper,Chrome extension,Crawling,Cross platform scraper\" name=\"keywords\">\n",
       "<meta content=\"The most popular web scraping extension. Start scraping in minutes. Automate your tasks with our Cloud Scraper. No software to download, no coding needed.\" name=\"description\">\n",
       "<link href=\"/favicon.png\" rel=\"icon\" sizes=\"128x128\"/>\n",
       "<meta content=\"width=device-width, initial-scale=1.0\" name=\"viewport\"/>\n",
       "<link href=\"/css/app.css?id=e4de8db16b64e604046e\" rel=\"stylesheet\"/>\n",
       "<link href=\"https://webscraper.io/test-sites/e-commerce/static\" rel=\"canonical\"/>\n",
       "<link href=\"/img/logo-icon.png\" rel=\"apple-touch-icon\"/>\n",
       "<script defer=\"\" src=\"/js/app.js?id=e64f07a3ce1d466cf04c\"></script>\n",
       "</meta></meta></head>\n",
       "<body>\n",
       "<!-- Google Tag Manager (noscript) -->\n",
       "<noscript>\n",
       "<iframe height=\"0\" src=\"https://www.googletagmanager.com/ns.html?id=GTM-NVFPDWB\" style=\"display:none;visibility:hidden\" width=\"0\"></iframe>\n",
       "</noscript>\n",
       "<!-- End Google Tag Manager (noscript) -->\n",
       "<header class=\"navbar navbar-fixed-top navbar-static\" role=\"banner\">\n",
       "<div class=\"container\">\n",
       "<div class=\"navbar-header\">\n",
       "<a data-target=\".side-collapse\" data-target-2=\".side-collapse-container\" data-toggle=\"collapse-side\">\n",
       "<button aria-controls=\"navbar\" aria-expanded=\"false\" class=\"navbar-toggle pull-right collapsed\" data-target=\"#navbar\" data-target-2=\".side-collapse-container\" data-target-3=\".side-collapse\" data-toggle=\"collapse\" type=\"button\">\n",
       "<span class=\"sr-only\">Toggle navigation</span>\n",
       "<span class=\"icon-bar top-bar\"></span>\n",
       "<span class=\"icon-bar middle-bar\"></span>\n",
       "<span class=\"icon-bar bottom-bar\"></span>\n",
       "</button>\n",
       "</a>\n",
       "<div class=\"navbar-brand\">\n",
       "<a href=\"/\"><img alt=\"Web Scraper\" src=\"/img/logo_white.svg\"/></a>\n",
       "</div>\n",
       "</div>\n",
       "<div class=\"side-collapse in\">\n",
       "<nav class=\"navbar-collapse collapse\" id=\"navbar\" role=\"navigation\">\n",
       "<ul class=\"nav navbar-nav navbar-right\">\n",
       "<li class=\"hidden\">\n",
       "<a href=\"#page-top\"></a>\n",
       "</li>\n",
       "<li>\n",
       "<a class=\"menuitm\" href=\"/\">\n",
       "<p>Web Scraper</p>\n",
       "<div class=\"crta\"></div>\n",
       "</a>\n",
       "</li>\n",
       "<li>\n",
       "<a class=\"menuitm\" href=\"/cloud-scraper\">\n",
       "<p>Cloud Scraper</p>\n",
       "<div class=\"crta\"></div>\n",
       "</a>\n",
       "</li>\n",
       "<li>\n",
       "<a class=\"menuitm\" href=\"/pricing\">\n",
       "<p>Pricing</p>\n",
       "<div class=\"crta\"></div>\n",
       "</a>\n",
       "</li>\n",
       "<li class=\"dropdown\">\n",
       "<a class=\"menuitm dropdown-toggle\" data-toggle=\"dropdown\" href=\"#section3\">\n",
       "<p>Learn</p>\n",
       "<div class=\"crta\"></div>\n",
       "</a>\n",
       "<ul class=\"dropdown-menu\">\n",
       "<li>\n",
       "<a href=\"/documentation\">Documentation</a>\n",
       "</li>\n",
       "<li>\n",
       "<a href=\"/tutorials\">Video Tutorials</a>\n",
       "</li>\n",
       "<li>\n",
       "<a href=\"/how-to-videos\">How to</a>\n",
       "</li>\n",
       "<li>\n",
       "<a href=\"/test-sites\">Test Sites</a>\n",
       "</li>\n",
       "<li>\n",
       "<a href=\"https://forum.webscraper.io/\" rel=\"noopener\" target=\"_blank\">Forum</a>\n",
       "</li>\n",
       "</ul>\n",
       "</li>\n",
       "<li>\n",
       "<a class=\"btn-menu1 install-extension\" href=\"https://chrome.google.com/webstore/detail/web-scraper/jnhgnonknehpejjnehehllkliplmbmhn?hl=en\" rel=\"noopener\" target=\"_blank\">Install</a>\n",
       "</li>\n",
       "<li>\n",
       "<a class=\"btn-menu2\" href=\"https://cloud.webscraper.io/\">Login</a>\n",
       "</li>\n",
       "</ul>\n",
       "</nav>\n",
       "</div>\n",
       "</div>\n",
       "</header>\n",
       "<div class=\"wrapper\">\n",
       "<div class=\"formenu-here container-fluid\">\n",
       "</div>\n",
       "<div class=\"container-fluid blog-hero\">\n",
       "<div class=\"container\">\n",
       "<div class=\"row\">\n",
       "<div class=\"col-md-12\">\n",
       "<h1>Test Sites</h1>\n",
       "</div>\n",
       "</div>\n",
       "</div>\n",
       "</div>\n",
       "<div class=\"container test-site\">\n",
       "<div class=\"row\">\n",
       "<div class=\"col-md-3 sidebar\">\n",
       "<div class=\"navbar-default sidebar\" role=\"navigation\">\n",
       "<div class=\"sidebar-nav navbar-collapse\">\n",
       "<ul class=\"nav\" id=\"side-menu\">\n",
       "<li class=\"active\">\n",
       "<a href=\"/test-sites/e-commerce/static\">Home</a>\n",
       "</li>\n",
       "<li>\n",
       "<a class=\"category-link\" href=\"/test-sites/e-commerce/static/computers\">\n",
       "\t\t\t\t\tComputers\n",
       "\t\t\t\t\t<span class=\"fa arrow\"></span>\n",
       "</a>\n",
       "</li>\n",
       "<li>\n",
       "<a class=\"category-link\" href=\"/test-sites/e-commerce/static/phones\">\n",
       "\t\t\t\t\tPhones\n",
       "\t\t\t\t\t<span class=\"fa arrow\"></span>\n",
       "</a>\n",
       "</li>\n",
       "</ul>\n",
       "</div>\n",
       "</div>\n",
       "</div>\n",
       "<div class=\"col-md-9\">\n",
       "<div class=\"jumbotron\">\n",
       "<h1>E-commerce training site</h1>\n",
       "<p>\n",
       "\t\t\tWelcome to WebScraper e-commerce site. You can use this site for training\n",
       "\t\t\tto learn how to use the Web Scraper. Items listed here are not for sale.\n",
       "\t\t</p>\n",
       "</div>\n",
       "<h2>Top items being scraped right now</h2>\n",
       "<div class=\"row\">\n",
       "<div class=\"col-sm-4 col-lg-4 col-md-4\">\n",
       "<div class=\"thumbnail\">\n",
       "<img alt=\"item\" class=\"img-responsive\" src=\"/images/test-sites/e-commerce/items/cart2.png\"/>\n",
       "<div class=\"caption\">\n",
       "<h4 class=\"pull-right price\">$24.99</h4>\n",
       "<h4>\n",
       "<a class=\"title\" href=\"/test-sites/e-commerce/static/product/486\" title=\"Nokia 123\">Nokia 123</a>\n",
       "</h4>\n",
       "<p class=\"description\">7 day battery</p>\n",
       "</div>\n",
       "<div class=\"ratings\">\n",
       "<p class=\"pull-right\">11 reviews</p>\n",
       "<p data-rating=\"3\">\n",
       "<span class=\"glyphicon glyphicon-star\"></span>\n",
       "<span class=\"glyphicon glyphicon-star\"></span>\n",
       "<span class=\"glyphicon glyphicon-star\"></span>\n",
       "</p>\n",
       "</div>\n",
       "</div>\n",
       "</div>\n",
       "<div class=\"col-sm-4 col-lg-4 col-md-4\">\n",
       "<div class=\"thumbnail\">\n",
       "<img alt=\"item\" class=\"img-responsive\" src=\"/images/test-sites/e-commerce/items/cart2.png\"/>\n",
       "<div class=\"caption\">\n",
       "<h4 class=\"pull-right price\">$520.99</h4>\n",
       "<h4>\n",
       "<a class=\"title\" href=\"/test-sites/e-commerce/static/product/527\" title=\"HP 250 G3\">HP 250 G3</a>\n",
       "</h4>\n",
       "<p class=\"description\">15.6\", Core i5-4210U, 4GB, 500GB, Windows 8.1</p>\n",
       "</div>\n",
       "<div class=\"ratings\">\n",
       "<p class=\"pull-right\">13 reviews</p>\n",
       "<p data-rating=\"2\">\n",
       "<span class=\"glyphicon glyphicon-star\"></span>\n",
       "<span class=\"glyphicon glyphicon-star\"></span>\n",
       "</p>\n",
       "</div>\n",
       "</div>\n",
       "</div>\n",
       "<div class=\"col-sm-4 col-lg-4 col-md-4\">\n",
       "<div class=\"thumbnail\">\n",
       "<img alt=\"item\" class=\"img-responsive\" src=\"/images/test-sites/e-commerce/items/cart2.png\"/>\n",
       "<div class=\"caption\">\n",
       "<h4 class=\"pull-right price\">$1349.23</h4>\n",
       "<h4>\n",
       "<a class=\"title\" href=\"/test-sites/e-commerce/static/product/628\" title=\"Lenovo ThinkPad T470\">Lenovo ThinkPad...</a>\n",
       "</h4>\n",
       "<p class=\"description\">Lenovo ThinkPad T470, 14\" FHD IPS, Core i5-7200U, 8GB, 256GB SSD, Windows 10 Pro</p>\n",
       "</div>\n",
       "<div class=\"ratings\">\n",
       "<p class=\"pull-right\">5 reviews</p>\n",
       "<p data-rating=\"1\">\n",
       "<span class=\"glyphicon glyphicon-star\"></span>\n",
       "</p>\n",
       "</div>\n",
       "</div>\n",
       "</div>\n",
       "</div>\n",
       "</div>\n",
       "</div>\n",
       "</div>\n",
       "<div class=\"clearfix\"></div>\n",
       "<div class=\"push\"></div>\n",
       "</div>\n",
       "<div class=\"container-fluid footer\" id=\"layout-footer\">\n",
       "<div class=\"container\">\n",
       "<div class=\"row\">\n",
       "<div class=\"col-md-3\">\n",
       "<ul>\n",
       "<li><p>Products</p></li>\n",
       "<li>\n",
       "<a href=\"/\">Web Scraper browser extension</a>\n",
       "</li>\n",
       "<li>\n",
       "<a href=\"/pricing\">Web Scraper Cloud</a>\n",
       "</li>\n",
       "</ul>\n",
       "</div>\n",
       "<div class=\"col-md-3\">\n",
       "<ul>\n",
       "<li><p>Company</p></li>\n",
       "<li><a href=\"/contact\">Contact</a>\n",
       "</li>\n",
       "<li>\n",
       "<a href=\"/privacy-policy\">Website Privacy Policy</a>\n",
       "</li>\n",
       "<li>\n",
       "<a href=\"/extension-privacy-policy\">Browser Extension Privacy Policy</a>\n",
       "</li>\n",
       "<li>\n",
       "<a href=\"http://webscraperio.us-east-1.elasticbeanstalk.com/downloads/Web_Scraper_Media_Kit.zip\">Media kit</a>\n",
       "</li>\n",
       "<li><a href=\"/jobs\">Jobs</a></li>\n",
       "</ul>\n",
       "</div>\n",
       "<div class=\"col-md-3\">\n",
       "<ul>\n",
       "<li><p>Resources</p></li>\n",
       "<li><a href=\"/blog\">Blog</a></li>\n",
       "<li>\n",
       "<a href=\"/documentation\">Documentation</a>\n",
       "</li>\n",
       "<li>\n",
       "<a href=\"/tutorials\">Video Tutorials</a>\n",
       "</li>\n",
       "<li>\n",
       "<a href=\"/screenshots\">Screenshots</a>\n",
       "</li>\n",
       "<li>\n",
       "<a href=\"/test-sites\">Test Sites</a>\n",
       "</li>\n",
       "<li>\n",
       "<a href=\"https://forum.webscraper.io/\" rel=\"noopener\" target=\"_blank\">Forum</a>\n",
       "</li>\n",
       "</ul>\n",
       "</div>\n",
       "<div class=\"col-md-3\">\n",
       "<ul>\n",
       "<li><p>CONTACT US</p></li>\n",
       "<li>\n",
       "<a href=\"mailto:info@webscraper.io\">info@webscraper.io</a>\n",
       "</li>\n",
       "<li>Rupniecibas iela 30,<br/> Riga, Latvia, LV-1045</li>\n",
       "</ul>\n",
       "<ul class=\"smedia\">\n",
       "<li>\n",
       "<a href=\"https://www.facebook.com/webscraperio/\" rel=\"noopener\" target=\"_blank\"><img alt=\"Web Scraper on Facebook\" src=\"/img/fbicon.png\"/></a>\n",
       "</li>\n",
       "<li>\n",
       "<a href=\"https://twitter.com/webscraperio\" rel=\"noopener\" target=\"_blank\"><img alt=\"Web Scraper on Twitter\" src=\"/img/twicon.png\"/></a>\n",
       "</li>\n",
       "</ul>\n",
       "</div>\n",
       "</div>\n",
       "<div class=\"row\">\n",
       "<div class=\"col-md-12\">\n",
       "<p class=\"copyright\">Copyright © 2020\n",
       "\t\t\t\t\t<a href=\"#\">Web Scraper</a> | All rights\n",
       "\t\t\t\t\treserved | Made by zoom59</p>\n",
       "</div>\n",
       "</div>\n",
       "</div>\n",
       "</div>\n",
       "</body>\n",
       "</html>"
      ]
     },
     "execution_count": 29,
     "metadata": {},
     "output_type": "execute_result"
    }
   ],
   "source": [
    "result"
   ]
  },
  {
   "cell_type": "code",
   "execution_count": 30,
   "metadata": {},
   "outputs": [
    {
     "data": {
      "text/plain": [
       "<button aria-controls=\"navbar\" aria-expanded=\"false\" class=\"navbar-toggle pull-right collapsed\" data-target=\"#navbar\" data-target-2=\".side-collapse-container\" data-target-3=\".side-collapse\" data-toggle=\"collapse\" type=\"button\">\n",
       "<span class=\"sr-only\">Toggle navigation</span>\n",
       "<span class=\"icon-bar top-bar\"></span>\n",
       "<span class=\"icon-bar middle-bar\"></span>\n",
       "<span class=\"icon-bar bottom-bar\"></span>\n",
       "</button>"
      ]
     },
     "execution_count": 30,
     "metadata": {},
     "output_type": "execute_result"
    }
   ],
   "source": [
    "result.header.div.div.a.button"
   ]
  },
  {
   "cell_type": "code",
   "execution_count": 31,
   "metadata": {},
   "outputs": [
    {
     "data": {
      "text/plain": [
       "<button aria-controls=\"navbar\" aria-expanded=\"false\" class=\"navbar-toggle pull-right collapsed\" data-target=\"#navbar\" data-target-2=\".side-collapse-container\" data-target-3=\".side-collapse\" data-toggle=\"collapse\" type=\"button\">\n",
       "<span class=\"sr-only\">Toggle navigation</span>\n",
       "<span class=\"icon-bar top-bar\"></span>\n",
       "<span class=\"icon-bar middle-bar\"></span>\n",
       "<span class=\"icon-bar bottom-bar\"></span>\n",
       "</button>"
      ]
     },
     "execution_count": 31,
     "metadata": {},
     "output_type": "execute_result"
    }
   ],
   "source": [
    "result.header.button"
   ]
  },
  {
   "cell_type": "code",
   "execution_count": 32,
   "metadata": {},
   "outputs": [
    {
     "data": {
      "text/plain": [
       "<span class=\"sr-only\">Toggle navigation</span>"
      ]
     },
     "execution_count": 32,
     "metadata": {},
     "output_type": "execute_result"
    }
   ],
   "source": [
    "result.header.span"
   ]
  },
  {
   "cell_type": "code",
   "execution_count": 35,
   "metadata": {},
   "outputs": [
    {
     "name": "stdout",
     "output_type": "stream",
     "text": [
      "<div class=\"container\">\n",
      " <div class=\"navbar-header\">\n",
      "  <a data-target=\".side-collapse\" data-target-2=\".side-collapse-container\" data-toggle=\"collapse-side\">\n",
      "   <button aria-controls=\"navbar\" aria-expanded=\"false\" class=\"navbar-toggle pull-right collapsed\" data-target=\"#navbar\" data-target-2=\".side-collapse-container\" data-target-3=\".side-collapse\" data-toggle=\"collapse\" type=\"button\">\n",
      "    <span class=\"sr-only\">\n",
      "     Toggle navigation\n",
      "    </span>\n",
      "    <span class=\"icon-bar top-bar\">\n",
      "    </span>\n",
      "    <span class=\"icon-bar middle-bar\">\n",
      "    </span>\n",
      "    <span class=\"icon-bar bottom-bar\">\n",
      "    </span>\n",
      "   </button>\n",
      "  </a>\n",
      "  <div class=\"navbar-brand\">\n",
      "   <a href=\"/\">\n",
      "    <img alt=\"Web Scraper\" src=\"/img/logo_white.svg\"/>\n",
      "   </a>\n",
      "  </div>\n",
      " </div>\n",
      " <div class=\"side-collapse in\">\n",
      "  <nav class=\"navbar-collapse collapse\" id=\"navbar\" role=\"navigation\">\n",
      "   <ul class=\"nav navbar-nav navbar-right\">\n",
      "    <li class=\"hidden\">\n",
      "     <a href=\"#page-top\">\n",
      "     </a>\n",
      "    </li>\n",
      "    <li>\n",
      "     <a class=\"menuitm\" href=\"/\">\n",
      "      <p>\n",
      "       Web Scraper\n",
      "      </p>\n",
      "      <div class=\"crta\">\n",
      "      </div>\n",
      "     </a>\n",
      "    </li>\n",
      "    <li>\n",
      "     <a class=\"menuitm\" href=\"/cloud-scraper\">\n",
      "      <p>\n",
      "       Cloud Scraper\n",
      "      </p>\n",
      "      <div class=\"crta\">\n",
      "      </div>\n",
      "     </a>\n",
      "    </li>\n",
      "    <li>\n",
      "     <a class=\"menuitm\" href=\"/pricing\">\n",
      "      <p>\n",
      "       Pricing\n",
      "      </p>\n",
      "      <div class=\"crta\">\n",
      "      </div>\n",
      "     </a>\n",
      "    </li>\n",
      "    <li class=\"dropdown\">\n",
      "     <a class=\"menuitm dropdown-toggle\" data-toggle=\"dropdown\" href=\"#section3\">\n",
      "      <p>\n",
      "       Learn\n",
      "      </p>\n",
      "      <div class=\"crta\">\n",
      "      </div>\n",
      "     </a>\n",
      "     <ul class=\"dropdown-menu\">\n",
      "      <li>\n",
      "       <a href=\"/documentation\">\n",
      "        Documentation\n",
      "       </a>\n",
      "      </li>\n",
      "      <li>\n",
      "       <a href=\"/tutorials\">\n",
      "        Video Tutorials\n",
      "       </a>\n",
      "      </li>\n",
      "      <li>\n",
      "       <a href=\"/how-to-videos\">\n",
      "        How to\n",
      "       </a>\n",
      "      </li>\n",
      "      <li>\n",
      "       <a href=\"/test-sites\">\n",
      "        Test Sites\n",
      "       </a>\n",
      "      </li>\n",
      "      <li>\n",
      "       <a href=\"https://forum.webscraper.io/\" rel=\"noopener\" target=\"_blank\">\n",
      "        Forum\n",
      "       </a>\n",
      "      </li>\n",
      "     </ul>\n",
      "    </li>\n",
      "    <li>\n",
      "     <a class=\"btn-menu1 install-extension\" href=\"https://chrome.google.com/webstore/detail/web-scraper/jnhgnonknehpejjnehehllkliplmbmhn?hl=en\" rel=\"noopener\" target=\"_blank\">\n",
      "      Install\n",
      "     </a>\n",
      "    </li>\n",
      "    <li>\n",
      "     <a class=\"btn-menu2\" href=\"https://cloud.webscraper.io/\">\n",
      "      Login\n",
      "     </a>\n",
      "    </li>\n",
      "   </ul>\n",
      "  </nav>\n",
      " </div>\n",
      "</div>\n",
      "\n"
     ]
    }
   ],
   "source": [
    "print(result.find(\"div\").prettify())"
   ]
  },
  {
   "cell_type": "code",
   "execution_count": 42,
   "metadata": {},
   "outputs": [
    {
     "data": {
      "text/plain": [
       "[<h1>Test Sites</h1>, <h1>E-commerce training site</h1>]"
      ]
     },
     "execution_count": 42,
     "metadata": {},
     "output_type": "execute_result"
    }
   ],
   "source": [
    "result.find_all(\"h1\")"
   ]
  },
  {
   "cell_type": "code",
   "execution_count": 39,
   "metadata": {},
   "outputs": [
    {
     "data": {
      "text/plain": [
       "2"
      ]
     },
     "execution_count": 39,
     "metadata": {},
     "output_type": "execute_result"
    }
   ],
   "source": [
    "len(result.find_all(\"h1\"))"
   ]
  },
  {
   "cell_type": "code",
   "execution_count": 46,
   "metadata": {},
   "outputs": [
    {
     "data": {
      "text/plain": [
       "[<div class=\"col-sm-4 col-lg-4 col-md-4\">\n",
       " <div class=\"thumbnail\">\n",
       " <img alt=\"item\" class=\"img-responsive\" src=\"/images/test-sites/e-commerce/items/cart2.png\"/>\n",
       " <div class=\"caption\">\n",
       " <h4 class=\"pull-right price\">$24.99</h4>\n",
       " <h4>\n",
       " <a class=\"title\" href=\"/test-sites/e-commerce/static/product/486\" title=\"Nokia 123\">Nokia 123</a>\n",
       " </h4>\n",
       " <p class=\"description\">7 day battery</p>\n",
       " </div>\n",
       " <div class=\"ratings\">\n",
       " <p class=\"pull-right\">11 reviews</p>\n",
       " <p data-rating=\"3\">\n",
       " <span class=\"glyphicon glyphicon-star\"></span>\n",
       " <span class=\"glyphicon glyphicon-star\"></span>\n",
       " <span class=\"glyphicon glyphicon-star\"></span>\n",
       " </p>\n",
       " </div>\n",
       " </div>\n",
       " </div>,\n",
       " <div class=\"col-sm-4 col-lg-4 col-md-4\">\n",
       " <div class=\"thumbnail\">\n",
       " <img alt=\"item\" class=\"img-responsive\" src=\"/images/test-sites/e-commerce/items/cart2.png\"/>\n",
       " <div class=\"caption\">\n",
       " <h4 class=\"pull-right price\">$520.99</h4>\n",
       " <h4>\n",
       " <a class=\"title\" href=\"/test-sites/e-commerce/static/product/527\" title=\"HP 250 G3\">HP 250 G3</a>\n",
       " </h4>\n",
       " <p class=\"description\">15.6\", Core i5-4210U, 4GB, 500GB, Windows 8.1</p>\n",
       " </div>\n",
       " <div class=\"ratings\">\n",
       " <p class=\"pull-right\">13 reviews</p>\n",
       " <p data-rating=\"2\">\n",
       " <span class=\"glyphicon glyphicon-star\"></span>\n",
       " <span class=\"glyphicon glyphicon-star\"></span>\n",
       " </p>\n",
       " </div>\n",
       " </div>\n",
       " </div>,\n",
       " <div class=\"col-sm-4 col-lg-4 col-md-4\">\n",
       " <div class=\"thumbnail\">\n",
       " <img alt=\"item\" class=\"img-responsive\" src=\"/images/test-sites/e-commerce/items/cart2.png\"/>\n",
       " <div class=\"caption\">\n",
       " <h4 class=\"pull-right price\">$1349.23</h4>\n",
       " <h4>\n",
       " <a class=\"title\" href=\"/test-sites/e-commerce/static/product/628\" title=\"Lenovo ThinkPad T470\">Lenovo ThinkPad...</a>\n",
       " </h4>\n",
       " <p class=\"description\">Lenovo ThinkPad T470, 14\" FHD IPS, Core i5-7200U, 8GB, 256GB SSD, Windows 10 Pro</p>\n",
       " </div>\n",
       " <div class=\"ratings\">\n",
       " <p class=\"pull-right\">5 reviews</p>\n",
       " <p data-rating=\"1\">\n",
       " <span class=\"glyphicon glyphicon-star\"></span>\n",
       " </p>\n",
       " </div>\n",
       " </div>\n",
       " </div>]"
      ]
     },
     "execution_count": 46,
     "metadata": {},
     "output_type": "execute_result"
    }
   ],
   "source": [
    "result.find_all(\"div\", {\"class\": \"col-sm-4 col-lg-4 col-md-4\"})\n"
   ]
  },
  {
   "cell_type": "code",
   "execution_count": null,
   "metadata": {},
   "outputs": [],
   "source": []
  }
 ],
 "metadata": {
  "kernelspec": {
   "display_name": "Python 3",
   "language": "python",
   "name": "python3"
  },
  "language_info": {
   "codemirror_mode": {
    "name": "ipython",
    "version": 3
   },
   "file_extension": ".py",
   "mimetype": "text/x-python",
   "name": "python",
   "nbconvert_exporter": "python",
   "pygments_lexer": "ipython3",
   "version": "3.8.5"
  }
 },
 "nbformat": 4,
 "nbformat_minor": 4
}
